{
 "cells": [
  {
   "cell_type": "markdown",
   "id": "58ca1ba4-b314-454d-88d0-dfd160a5b635",
   "metadata": {},
   "source": [
    "# API call"
   ]
  },
  {
   "cell_type": "code",
   "execution_count": 2,
   "id": "7fb76bdc-f43d-44da-97b9-ac048f75ccad",
   "metadata": {},
   "outputs": [],
   "source": [
    "import requests\n",
    "import json"
   ]
  },
  {
   "cell_type": "code",
   "execution_count": 3,
   "id": "2a3982aa-cec3-4a14-8c1d-30e4ab126519",
   "metadata": {},
   "outputs": [],
   "source": [
    "def fetch_match_data(match_id):\n",
    "    url = f\"https://api.opendota.com/api/matches/{match_id}\"\n",
    "    response = requests.get(url)\n",
    "\n",
    "    if response.status_code == 200:\n",
    "        match_data = response.json()\n",
    "        return match_data\n",
    "    else:\n",
    "        print(f\"Failed to fetch match data. Status code: {response.status_code}\")\n",
    "        return None"
   ]
  },
  {
   "cell_type": "code",
   "execution_count": 4,
   "id": "f73a9cf1-8732-4190-b7c8-5c46a00f2975",
   "metadata": {},
   "outputs": [],
   "source": [
    "def inspect_match(match_data):\n",
    "    if not match_data:\n",
    "        print(\"No data to inspect.\")\n",
    "        return\n",
    "\n",
    "    # Basic match info\n",
    "    print(\"\\n🏆 Match Summary:\")\n",
    "    print(f\"Match ID: {match_data['match_id']}\")\n",
    "    print(f\"Duration: {match_data['duration'] // 60} minutes\")\n",
    "    print(f\"Radiant Win: {match_data['radiant_win']}\")\n",
    "    print(f\"Game Mode: {match_data['game_mode']}\")\n",
    "    print(f\"Start Time: {match_data['start_time']}\")\n",
    "\n",
    "    # Player stats\n",
    "    print(\"\\n👥 Player Stats:\")\n",
    "    for player in match_data['players']:\n",
    "        print(f\"Player: {player.get('personaname', 'Anonymous')}\")\n",
    "        print(f\"  Hero ID: {player['hero_id']}\")\n",
    "        print(f\"  K/D/A: {player['kills']}/{player['deaths']}/{player['assists']}\")\n",
    "        print(f\"  GPM/XPM: {player['gold_per_min']}/{player['xp_per_min']}\")\n",
    "        print(f\"  Last Hits: {player['last_hits']}\")\n",
    "        print(f\"  Items: {[player.get(f'item_{i}') for i in range(6)]}\")\n",
    "        print(\"\")"
   ]
  },
  {
   "cell_type": "code",
   "execution_count": 5,
   "id": "69ebf691-2de7-4109-a4e8-93cd29b6912a",
   "metadata": {},
   "outputs": [],
   "source": [
    "match_data = fetch_match_data(8420814829)"
   ]
  },
  {
   "cell_type": "code",
   "execution_count": 8,
   "id": "2495bff9-3c6f-450a-af2e-5953d4829ea8",
   "metadata": {
    "scrolled": true
   },
   "outputs": [
    {
     "data": {
      "text/plain": [
       "dict_keys(['version', 'match_id', 'draft_timings', 'teamfights', 'objectives', 'chat', 'radiant_gold_adv', 'radiant_xp_adv', 'pauses', 'cosmetics', 'players', 'leagueid', 'start_time', 'duration', 'series_id', 'series_type', 'cluster', 'replay_salt', 'radiant_win', 'pre_game_duration', 'match_seq_num', 'tower_status_radiant', 'tower_status_dire', 'barracks_status_radiant', 'barracks_status_dire', 'first_blood_time', 'lobby_type', 'human_players', 'game_mode', 'flags', 'engine', 'radiant_score', 'dire_score', 'picks_bans', 'od_data', 'metadata', 'replay_url', 'patch', 'region', 'all_word_counts', 'my_word_counts', 'throw', 'loss'])"
      ]
     },
     "execution_count": 8,
     "metadata": {},
     "output_type": "execute_result"
    }
   ],
   "source": [
    "match_data.keys()"
   ]
  },
  {
   "cell_type": "code",
   "execution_count": 12,
   "id": "82f8d363-9895-4113-ab9b-ae89afffd2d5",
   "metadata": {},
   "outputs": [
    {
     "data": {
      "text/plain": [
       "{'start': 212,\n",
       " 'end': 262,\n",
       " 'last_death': 247,\n",
       " 'deaths': 3,\n",
       " 'players': [{'deaths_pos': {},\n",
       "   'ability_uses': {'lich_frost_nova': 1},\n",
       "   'ability_targets': {},\n",
       "   'item_uses': {'ward_dispenser': 2, 'tango': 1},\n",
       "   'killed': {},\n",
       "   'deaths': 0,\n",
       "   'buybacks': 0,\n",
       "   'damage': 193,\n",
       "   'healing': 0,\n",
       "   'gold_delta': 0,\n",
       "   'xp_delta': 138,\n",
       "   'xp_start': 870,\n",
       "   'xp_end': 1008},\n",
       "  {'deaths_pos': {},\n",
       "   'ability_uses': {},\n",
       "   'ability_targets': {},\n",
       "   'item_uses': {'tango': 1},\n",
       "   'killed': {},\n",
       "   'deaths': 0,\n",
       "   'buybacks': 0,\n",
       "   'damage': 51,\n",
       "   'healing': 0,\n",
       "   'gold_delta': 168,\n",
       "   'xp_delta': 252,\n",
       "   'xp_start': 1001,\n",
       "   'xp_end': 1253},\n",
       "  {'deaths_pos': {},\n",
       "   'ability_uses': {'necrolyte_death_pulse': 4},\n",
       "   'ability_targets': {},\n",
       "   'item_uses': {'tango': 1},\n",
       "   'killed': {'npc_dota_hero_witch_doctor': 1},\n",
       "   'deaths': 0,\n",
       "   'buybacks': 0,\n",
       "   'damage': 957,\n",
       "   'healing': 471,\n",
       "   'gold_delta': 305,\n",
       "   'xp_delta': 472,\n",
       "   'xp_start': 862,\n",
       "   'xp_end': 1334},\n",
       "  {'deaths_pos': {'95.7': {'170.4': 1}},\n",
       "   'ability_uses': {'earth_spirit_stone_caller': 1,\n",
       "    'earth_spirit_boulder_smash': 1},\n",
       "   'ability_targets': {},\n",
       "   'item_uses': {'famango': 1,\n",
       "    'magic_stick': 1,\n",
       "    'tango': 1,\n",
       "    'tpscroll': 1,\n",
       "    'ward_dispenser': 1,\n",
       "    'ward_sentry': 1},\n",
       "   'killed': {},\n",
       "   'deaths': 1,\n",
       "   'buybacks': 0,\n",
       "   'damage': 216,\n",
       "   'healing': 222,\n",
       "   'gold_delta': -10,\n",
       "   'xp_delta': 56,\n",
       "   'xp_start': 622,\n",
       "   'xp_end': 678},\n",
       "  {'deaths_pos': {},\n",
       "   'ability_uses': {'pudge_meat_hook': 3,\n",
       "    'pudge_rot': 4,\n",
       "    'pudge_flesh_heap': 1},\n",
       "   'ability_targets': {},\n",
       "   'item_uses': {'bottle': 3, 'tango': 2, 'blood_grenade': 1},\n",
       "   'killed': {'npc_dota_hero_storm_spirit': 1},\n",
       "   'deaths': 0,\n",
       "   'buybacks': 0,\n",
       "   'damage': 1008,\n",
       "   'healing': 380,\n",
       "   'gold_delta': 422,\n",
       "   'xp_delta': 808,\n",
       "   'xp_start': 1312,\n",
       "   'xp_end': 2120},\n",
       "  {'deaths_pos': {},\n",
       "   'ability_uses': {'slark_pounce': 2},\n",
       "   'ability_targets': {},\n",
       "   'item_uses': {'magic_stick': 1, 'tango': 2},\n",
       "   'killed': {},\n",
       "   'deaths': 0,\n",
       "   'buybacks': 0,\n",
       "   'damage': 323,\n",
       "   'healing': 282,\n",
       "   'gold_delta': 178,\n",
       "   'xp_delta': 474,\n",
       "   'xp_start': 709,\n",
       "   'xp_end': 1183},\n",
       "  {'deaths_pos': {},\n",
       "   'ability_uses': {'undying_decay': 2},\n",
       "   'ability_targets': {},\n",
       "   'item_uses': {'tpscroll': 1},\n",
       "   'killed': {},\n",
       "   'deaths': 0,\n",
       "   'buybacks': 0,\n",
       "   'damage': 28,\n",
       "   'healing': 0,\n",
       "   'gold_delta': 70,\n",
       "   'xp_delta': 70,\n",
       "   'xp_start': 730,\n",
       "   'xp_end': 800},\n",
       "  {'deaths_pos': {'124.4': {'112.4': 1}},\n",
       "   'ability_uses': {'storm_spirit_static_remnant': 4},\n",
       "   'ability_targets': {},\n",
       "   'item_uses': {'bottle': 4, 'faerie_fire': 1},\n",
       "   'killed': {},\n",
       "   'deaths': 1,\n",
       "   'buybacks': 0,\n",
       "   'damage': 674,\n",
       "   'healing': 219,\n",
       "   'gold_delta': 83,\n",
       "   'xp_delta': 240,\n",
       "   'xp_start': 1519,\n",
       "   'xp_end': 1759},\n",
       "  {'deaths_pos': {},\n",
       "   'ability_uses': {'ringmaster_impalement': 2,\n",
       "    'ringmaster_tame_the_beasts': 2},\n",
       "   'ability_targets': {},\n",
       "   'item_uses': {'tpscroll': 1},\n",
       "   'killed': {},\n",
       "   'deaths': 0,\n",
       "   'buybacks': 0,\n",
       "   'damage': 384,\n",
       "   'healing': 0,\n",
       "   'gold_delta': 0,\n",
       "   'xp_delta': 167,\n",
       "   'xp_start': 655,\n",
       "   'xp_end': 822},\n",
       "  {'deaths_pos': {'96.1': {'185.3': 1}},\n",
       "   'ability_uses': {'witch_doctor_paralyzing_cask': 1},\n",
       "   'ability_targets': {},\n",
       "   'item_uses': {'blood_grenade': 1, 'magic_stick': 1},\n",
       "   'killed': {'npc_dota_hero_earth_spirit': 1},\n",
       "   'deaths': 1,\n",
       "   'buybacks': 0,\n",
       "   'damage': 350,\n",
       "   'healing': 120,\n",
       "   'gold_delta': 220,\n",
       "   'xp_delta': 122,\n",
       "   'xp_start': 526,\n",
       "   'xp_end': 648}]}"
      ]
     },
     "execution_count": 12,
     "metadata": {},
     "output_type": "execute_result"
    }
   ],
   "source": [
    "match_data['teamfights'][0]"
   ]
  }
 ],
 "metadata": {
  "kernelspec": {
   "display_name": "Python 3 (ipykernel)",
   "language": "python",
   "name": "python3"
  },
  "language_info": {
   "codemirror_mode": {
    "name": "ipython",
    "version": 3
   },
   "file_extension": ".py",
   "mimetype": "text/x-python",
   "name": "python",
   "nbconvert_exporter": "python",
   "pygments_lexer": "ipython3",
   "version": "3.12.2"
  }
 },
 "nbformat": 4,
 "nbformat_minor": 5
}
